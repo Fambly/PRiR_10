{
  "nbformat": 4,
  "nbformat_minor": 0,
  "metadata": {
    "colab": {
      "provenance": [],
      "include_colab_link": true
    },
    "kernelspec": {
      "name": "python3",
      "display_name": "Python 3"
    },
    "language_info": {
      "name": "python"
    },
    "accelerator": "GPU"
  },
  "cells": [
    {
      "cell_type": "markdown",
      "metadata": {
        "id": "view-in-github",
        "colab_type": "text"
      },
      "source": [
        "<a href=\"https://colab.research.google.com/github/Fambly/PRiR_10/blob/main/lab10_PRIR.ipynb\" target=\"_parent\"><img src=\"https://colab.research.google.com/assets/colab-badge.svg\" alt=\"Open In Colab\"/></a>"
      ]
    },
    {
      "cell_type": "code",
      "execution_count": null,
      "metadata": {
        "id": "2OM4lHvg-wCW",
        "colab": {
          "base_uri": "https://localhost:8080/"
        },
        "outputId": "acd096a4-6901-47c5-9f20-27b58baf5c22"
      },
      "outputs": [
        {
          "output_type": "stream",
          "name": "stdout",
          "text": [
            "Looking in indexes: https://pypi.org/simple, https://us-python.pkg.dev/colab-wheels/public/simple/\n",
            "Collecting git+https://github.com/andreinechaev/nvcc4jupyter.git\n",
            "  Cloning https://github.com/andreinechaev/nvcc4jupyter.git to /tmp/pip-req-build-hxzr7onf\n",
            "  Running command git clone --filter=blob:none --quiet https://github.com/andreinechaev/nvcc4jupyter.git /tmp/pip-req-build-hxzr7onf\n",
            "  Resolved https://github.com/andreinechaev/nvcc4jupyter.git to commit aac710a35f52bb78ab34d2e52517237941399eff\n",
            "  Preparing metadata (setup.py) ... \u001b[?25l\u001b[?25hdone\n",
            "Building wheels for collected packages: NVCCPlugin\n",
            "  Building wheel for NVCCPlugin (setup.py) ... \u001b[?25l\u001b[?25hdone\n",
            "  Created wheel for NVCCPlugin: filename=NVCCPlugin-0.0.2-py3-none-any.whl size=4304 sha256=ceaf94aee623a9eba61073e2f377a2400cafe6210f4e6f5f6cc791899294299d\n",
            "  Stored in directory: /tmp/pip-ephem-wheel-cache-b3c4v9f_/wheels/f3/08/cc/e2b5b0e1c92df07dbb50a6f024a68ce090f5e7b2316b41756d\n",
            "Successfully built NVCCPlugin\n",
            "Installing collected packages: NVCCPlugin\n",
            "Successfully installed NVCCPlugin-0.0.2\n"
          ]
        }
      ],
      "source": [
        "!pip install git+https://github.com/andreinechaev/nvcc4jupyter.git"
      ]
    },
    {
      "cell_type": "code",
      "source": [
        "%load_ext nvcc_plugin"
      ],
      "metadata": {
        "id": "Leu-Hsg69ax8"
      },
      "execution_count": null,
      "outputs": []
    },
    {
      "cell_type": "markdown",
      "source": [
        "**CPU**"
      ],
      "metadata": {
        "id": "Ho6IUedd9yDN"
      }
    },
    {
      "cell_type": "code",
      "source": [
        "%%cu\n",
        "#include <stdio.h>\n",
        "\n",
        "//miejsce do zdefiniowania liczby przedziałów całkowania. Jeśli chodzi o porównywalność do wersji GPU, to nie należy przekraczać wartości 1000!\n",
        "#define N 10\n",
        "\n",
        "//tutaj definiujemy funkcję z której chcemy policzyć całkę\n",
        "double func(double x) { return ((1.4 * x + 0.3) / (2.3 + cos(0.4 * pow(x, 2) + 1) ) ); }\n",
        "\n",
        "//funkcja która oblicza nam całkę metodą prostokątów zgodnie ze wzorem:\n",
        "double metoda_prostokatow(int n, float xp, float xk) {\n",
        "    float calka = 0;\n",
        "    float h = (xk - xp) / (float)n;\n",
        "    int i = 1;\n",
        "\n",
        "    for (i = 1; i <= n; i++) {\n",
        "        calka += func(xp + i*h)*h;\n",
        "    }\n",
        "    return calka; \n",
        "}\n",
        "\n",
        "//funkcja która oblicza nam całkę metodą trapezów zgodnie ze wzorem:\n",
        "double metoda_trapezow(int n, float xp, float xk) {\n",
        "    float calka = 0;\n",
        "    float h = (xk - xp) / (float)n;\n",
        "    int i = 1;\n",
        "\n",
        "    for (i = 1; i < n; i++) {\n",
        "        calka += func(xp + i * h);\n",
        "    }\n",
        "    calka += func(xp) / 2;\n",
        "    calka += func(xk) / 2;\n",
        "    calka *= h;\n",
        "    return calka;\n",
        "}\n",
        "\n",
        "//funkcja która oblicza nam całkę metodą simpsona zgodnie ze wzorem:\n",
        "double metoda_simpsona(int n, float xp, float xk) {\n",
        "    float calka = 0;\n",
        "    float h = (xk - xp) / (float)n;\n",
        "    float s = 0;\n",
        "    float x;\n",
        "    int i = 1;\n",
        "    \n",
        "    for (i = 1; i < n; i++) {\n",
        "      x = xp + i * h;\n",
        "      s += func(x - h / 2);\n",
        "      calka += func(x);\n",
        "    }\n",
        "    s += func(xk - h / 2);\n",
        "    calka = (h / 6) * (func(xp) + func(xk) + 2 * calka + 4 * s);\n",
        "    return calka;\n",
        "}\n",
        "\n",
        "int main() {\n",
        "  //xp i xk są to przedziały po jakich całkujemy. W tym miejscu inicjujemy te wartości.\n",
        "  float xp, xk;\n",
        "  //zainicjowanie zegara do obliczania ile czasu zajeło policzenie całki\n",
        "  clock_t start, end;\n",
        "\n",
        "  //tu wpisujemy nasze przedziały\n",
        "  xp = -100;\n",
        "  xk = 1000000;\n",
        "\n",
        "  //wyświetlenie podanego N\n",
        "  printf(\"N = %d\\n\",N);\n",
        "\n",
        "  //wyliczanie po kolei całek danymi metodami i obliczanie ile czasu one zajely.\n",
        "  float prostokat;  \n",
        "  start = clock();\n",
        "  prostokat = metoda_prostokatow(N, xp, xk);\n",
        "  end = clock();\n",
        "  double elapsed = ((double)(end - start))/CLOCKS_PER_SEC;\n",
        "  printf(\"metoda prostokatow czas = %f ms\\n\",elapsed*1000);\n",
        "  printf(\"wynik: %f\\n\",prostokat);\n",
        "\n",
        "  float trapez;\n",
        "  start = clock();\n",
        "  trapez = metoda_trapezow(N, xp, xk);\n",
        "  end = clock();\n",
        "  elapsed = ((double)(end - start))/CLOCKS_PER_SEC;\n",
        "  printf(\"metoda trapezow czas = %f ms\\n\",elapsed*1000);\n",
        "  printf(\"wynik: %f\\n\",trapez);\n",
        "\n",
        "  float simson;\n",
        "  start = clock();\n",
        "  simson = metoda_simpsona(N, xp, xk);\n",
        "  end = clock();\n",
        "  elapsed = ((double)(end - start))/CLOCKS_PER_SEC;\n",
        "  printf(\"metoda simpsona czas = %f ms\\n\",elapsed*1000);\n",
        "  printf(\"wynik: %f\\n\",simson);\n",
        "  return 0;\n",
        "}"
      ],
      "metadata": {
        "colab": {
          "base_uri": "https://localhost:8080/"
        },
        "id": "avP5On6EA0xf",
        "outputId": "d1b00de1-f1d3-421f-d75a-bb028f79a46f"
      },
      "execution_count": 183,
      "outputs": [
        {
          "output_type": "stream",
          "name": "stdout",
          "text": [
            "N = 10\n",
            "metoda prostokatow czas = 0.013000 ms\n",
            "wynik: 377742065664.000000\n",
            "metoda trapezow czas = 0.001000 ms\n",
            "wynik: 355640934400.000000\n",
            "metoda simpsona czas = 0.002000 ms\n",
            "wynik: 377090080768.000000\n",
            "\n"
          ]
        }
      ]
    },
    {
      "cell_type": "code",
      "source": [
        "%%cu\n",
        "#include <stdio.h>\n",
        "#include <math.h>\n",
        "\n",
        "//tutaj definiujemy ile chcemy mieć przedziałów całkowania. UWAGA na GPU z jakiegoś powodu powyżej N = 1000 wynik wychodzi 0!!!\n",
        "#define N 10\n",
        "\n",
        "//miejsce do wpisania funkcji z której chcemy policzyć całkę.\n",
        "__device__ double func(double x) { return ((1.4 * x + 0.3) / (2.3 + cos(0.4 * pow(x, 2) + 1) ) ) ; }\n",
        "\n",
        "//funkcja licząca całkę metodą prostokątów na wątku\n",
        "__global__ void prostokat_thread(int n, double *FinX, double h, double *score2){\n",
        "  int i = threadIdx.x;\n",
        "  if(i < n){\n",
        "    *(score2 + i) = func(*(FinX + i)) * h;\n",
        "  }\n",
        "}\n",
        "\n",
        "//funkcja licząca całkę metodą trapezów na wątku\n",
        "__global__ void trapez_thread(int n, double *FinX, double h, double *score1){\n",
        "  int i = threadIdx.x;\n",
        "  if(i < n){\n",
        "    double temp = func(*(FinX + i)) + func(*(FinX + i + 1));\n",
        "    *(score1 + i) = (temp/2) * (double)(h);\n",
        "  }\n",
        "}\n",
        "\n",
        "//funkcja licząca całkę metodą simpsona na wątku\n",
        "__global__ void simson_thread(int n, double *x, double h, double *result){\n",
        "  int i = blockIdx.x * blockDim.x + threadIdx.x;\n",
        "  if (i < n){\n",
        "    result[i] = (h / 3) * (func(x[i]) + 4 * func(x[i] + h / 2) + func(x[i + 1]));\n",
        "  }\n",
        "}\n",
        "\n",
        "int main(){\n",
        "  //inicjalizacja zmiennych:\n",
        "  //status - czyli obecny stan GPU\n",
        "  //start,end - zmienne czasowe do liczenia ile zajeło liczenie\n",
        "  //gpu - wynik ile czasu zajeło liczenie całki na GPU\n",
        "  //xp, xk - Xpoczątkowe i końcowe czyli przedział po jakim całkujemy\n",
        "  cudaError_t status;\n",
        "  clock_t start, end;\n",
        "  double gpu;\n",
        "  double *xp, *xk;\n",
        "  xp = (double*) malloc(sizeof(double));\n",
        "  xk = (double*) malloc(sizeof(double));\n",
        "\n",
        "  *xp = -100;\n",
        "  *xk = 1000000;\n",
        "\n",
        "  //h i x są to wartości podane we wzorach na całkę.\n",
        "  double h = ((*xk) - (*xp)) / (double)(N);\n",
        "  double *x = (double*) malloc((N+1) * sizeof(double));\n",
        "  \n",
        "\n",
        "  *x = *xp;\n",
        "  *(x + N) = *xk;                                                                  \n",
        "  for(int i = 1; i < N; i++){\n",
        "    double temp = (double)(i) / (double)(N);\n",
        "    *(x + i) = *xp + (temp * (*xk - *xp));\n",
        "  }    \n",
        "\n",
        "  printf(\"N = %d\\n\",N);\n",
        "\n",
        "  //liczenie całek poszczególnymi metodami i wyświetlanie ile czasu one zajęły.\n",
        "  \n",
        "  //prostokaty\n",
        "  double *FinX, *score;\n",
        "  \n",
        "  cudaMalloc((void **)&FinX, (N + 1) * sizeof(double));\n",
        "  cudaMalloc((void **)&score, (N + 1) * sizeof(double));\n",
        "  double *scoregpu = (double*) malloc((N+1) * sizeof(double));\n",
        "  status = cudaMemcpy(FinX, x, (N + 1) * sizeof(double), cudaMemcpyHostToDevice);\n",
        "  \n",
        "  prostokat_thread<<<1, N>>>(N, FinX, h, score);\n",
        "\n",
        "  status = cudaMemcpy (scoregpu, score, (N + 1) * sizeof(double), cudaMemcpyDeviceToHost);\n",
        "  status = cudaFree(FinX); if (status != cudaSuccess){printf(\"%s /n\", cudaGetErrorString(status));};\n",
        "  status = cudaFree(score); if (status != cudaSuccess){printf(\"%s /n\", cudaGetErrorString(status));};    \n",
        "\n",
        "  start = clock();\n",
        "  double suma = 0;\n",
        "  for(int i = 0; i < N; i++){\n",
        "    suma = suma + *(scoregpu + i);\n",
        "  }\n",
        "  free(scoregpu);\n",
        "  end = clock();\n",
        "  gpu = ((double)(end-start))/CLOCKS_PER_SEC; \n",
        "  printf(\"metoda prostokatow na GPU czas: %lf ms\\n\", gpu*1000);\n",
        "  printf(\"Wynik: %lf\\n\", suma);\n",
        "\n",
        "  //trapezy\n",
        "  double *FinX2, *score2;\n",
        "  \n",
        "  cudaMalloc((void **)&FinX2, (N + 1) * sizeof(double));\n",
        "  cudaMalloc((void **)&score2, (N + 1) * sizeof(double));\n",
        "  double *scoregpu2 = (double*) malloc((N+1) * sizeof(double));\n",
        "  status = cudaMemcpy(FinX2, x, (N + 1) * sizeof(double), cudaMemcpyHostToDevice);\n",
        "\n",
        "  trapez_thread<<<1, N>>>(N, FinX2, h, score2);\n",
        "  \n",
        "  status = cudaMemcpy (scoregpu2, score2, (N + 1) * sizeof(double), cudaMemcpyDeviceToHost);\n",
        "  status = cudaFree(FinX2); if (status != cudaSuccess){printf(\"%s /n\", cudaGetErrorString(status));};\n",
        "  status = cudaFree(score2); if (status != cudaSuccess){printf(\"%s /n\", cudaGetErrorString(status));};\n",
        "\n",
        "  start = clock();\n",
        "  double suma2 = 0;\n",
        "  for(int i = 0; i < N; i++){\n",
        "    suma2 = suma2 + *(scoregpu2 + i);\n",
        "  }\n",
        "  free(scoregpu2);\n",
        "  end = clock();\n",
        "  gpu = ((double)(end - start))/CLOCKS_PER_SEC;\n",
        "  printf(\"metoda trapezow na GPU czas: %lf ms\\n\", gpu*1000);                           \n",
        "  printf(\"Wynik: %lf\\n\", suma2);\n",
        "\n",
        "  //samson\n",
        "  double *FinX3, *score3;\n",
        "\n",
        "  cudaMalloc((void **)&FinX3, (N + 1) * sizeof(double));\n",
        "  cudaMalloc((void **)&score3, (N + 1) * sizeof(double));\n",
        "  double *scoregpu3 = (double*) malloc((N+1) * sizeof(double));\n",
        "  status = cudaMemcpy(FinX3, x, (N + 1) * sizeof(double), cudaMemcpyHostToDevice);\n",
        "\n",
        "  simson_thread<<<1, N>>>(N, FinX3, h, score3);\n",
        "  \n",
        "  status = cudaMemcpy (scoregpu3, score3, (N + 1) * sizeof(double), cudaMemcpyDeviceToHost);\n",
        "  status = cudaFree(FinX3); if (status != cudaSuccess){printf(\"%s /n\", cudaGetErrorString(status));};\n",
        "  status = cudaFree(score3); if (status != cudaSuccess){printf(\"%s /n\", cudaGetErrorString(status));};\n",
        "  \n",
        "  start = clock();                                                                  \n",
        "  double suma3 = 0;\n",
        "  for (int i = 0; i < N; i++){\n",
        "    suma3 += scoregpu3[i];\n",
        "    i++;\n",
        "    }                                                                                                       \n",
        "  cudaFree(score3);\n",
        "  end = clock();\n",
        "  gpu = ((double)(end - start)) / CLOCKS_PER_SEC;\n",
        "  printf(\"metoda simpsona na GPU czas: %lf ms\\n\", gpu*1000);\n",
        "  printf(\"Wynik: %lf\\n\", suma3);\n",
        "\n",
        "  return 0;\n",
        "}"
      ],
      "metadata": {
        "colab": {
          "base_uri": "https://localhost:8080/"
        },
        "id": "B1_7OuCRBFHT",
        "outputId": "bf38c90c-bfa5-4dfd-9d8d-30ed408ed306"
      },
      "execution_count": 184,
      "outputs": [
        {
          "output_type": "stream",
          "name": "stdout",
          "text": [
            "N = 10\n",
            "metoda prostokatow na GPU czas: 0.001000 ms\n",
            "Wynik: 333539747746.241333\n",
            "metoda trapezow na GPU czas: 0.001000 ms\n",
            "Wynik: 355640914261.766602\n",
            "metoda simpsona na GPU czas: 0.002000 ms\n",
            "Wynik: 348645457728.660278\n",
            "\n"
          ]
        }
      ]
    },
    {
      "cell_type": "code",
      "source": [
        "import matplotlib.pyplot as plt\n",
        "import pandas as pd\n",
        "\n",
        "df = pd.DataFrame({\n",
        "  'GPU': [0.01, 0.001, 0.002,0.002, 0.001, 0.002,0.005, 0.004, 0.004],\n",
        "  'CPU': [0.012, 0.001, 0.002,0.022, 0.008, 0.015,0.083, 0.101, 0.171]})\n",
        "\n",
        "labels = ['Prostokat 10','trapez 10','simpson10','Prostokat 100','trapez 100','simpson100','Prostokat 1000','trapez 1000','simpson1000']\n",
        "\n",
        "ax = df.plot(stacked=True, kind='bar')\n",
        "for bar in ax.patches:\n",
        "  height = bar.get_height()\n",
        "  width = bar.get_width()\n",
        "  x = bar.get_x()\n",
        "  y = bar.get_y()\n",
        "  label_text = height\n",
        "  label_x = x + width / 2\n",
        "  label_y = y + height / 2\n",
        "  ax.text(label_x, label_y, label_text, ha='center', va='center')                                                \n",
        "\n",
        "ax.set_xticklabels(labels,rotation='vertical')\n",
        "\n",
        "plt.show()"
      ],
      "metadata": {
        "colab": {
          "base_uri": "https://localhost:8080/",
          "height": 330
        },
        "id": "RVH2dYaAZoHm",
        "outputId": "7272ced6-1131-41b9-d282-d0d56523a16c"
      },
      "execution_count": 185,
      "outputs": [
        {
          "output_type": "display_data",
          "data": {
            "text/plain": [
              "<Figure size 432x288 with 1 Axes>"
            ],
            "image/png": "[encoded data removed]"
          },
          "metadata": {
            "needs_background": "light"
          }
        }
      ]
    }
  ]
}